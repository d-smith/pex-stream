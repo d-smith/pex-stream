{
 "cells": [
  {
   "cell_type": "code",
   "execution_count": null,
   "id": "a150d2a1",
   "metadata": {},
   "outputs": [],
   "source": [
    "import boto3\n",
    "\n",
    "kda_client = boto3.client('kinesisanalytics')\n",
    "kinesis = boto3.client('kinesis')\n",
    "iam = boto3.client('iam')"
   ]
  },
  {
   "cell_type": "markdown",
   "id": "76deb4f6",
   "metadata": {},
   "source": [
    "## IAM Role and Policy"
   ]
  },
  {
   "cell_type": "code",
   "execution_count": null,
   "id": "bfd6315e",
   "metadata": {},
   "outputs": [],
   "source": [
    "assume_role_policy_document=\"\"\"{\n",
    "    \"Version\": \"2012-10-17\",\n",
    "    \"Statement\": [\n",
    "        {\n",
    "            \"Effect\": \"Allow\",\n",
    "            \"Principal\": {\n",
    "                \"Service\": \"kinesisanalytics.amazonaws.com\"\n",
    "            },\n",
    "            \"Action\": \"sts:AssumeRole\"\n",
    "        }\n",
    "    ]\n",
    "}\n",
    "\"\"\""
   ]
  },
  {
   "cell_type": "code",
   "execution_count": null,
   "id": "56423955",
   "metadata": {},
   "outputs": [],
   "source": [
    "cr = iam.create_role(\n",
    "    RoleName='kda-sample-role',\n",
    "    Path='/service-role/',\n",
    "    AssumeRolePolicyDocument=assume_role_policy_document\n",
    ")\n",
    "\n",
    "print(cr)"
   ]
  },
  {
   "cell_type": "code",
   "execution_count": null,
   "id": "f5ad9463",
   "metadata": {},
   "outputs": [],
   "source": [
    "import os\n",
    "account_no = os.environ['PA_ACCOUNT_NO']"
   ]
  },
  {
   "cell_type": "code",
   "execution_count": null,
   "id": "14b9675d",
   "metadata": {},
   "outputs": [],
   "source": [
    "policy_document=\"\"\"{\n",
    "            \"Version\": \"2012-10-17\",\n",
    "            \"Statement\": [\n",
    "               \n",
    "                {\n",
    "                    \"Sid\": \"ListCloudwatchLogGroups\",\n",
    "                    \"Effect\": \"Allow\",\n",
    "                    \"Action\": [\n",
    "                        \"logs:DescribeLogGroups\"\n",
    "                    ],\n",
    "                    \"Resource\": [\n",
    "                        \"arn:aws:logs:us-west-2:\"\"\" + account_no + \"\"\":log-group:*\"\n",
    "                    ]\n",
    "                },\n",
    "                {\n",
    "                    \"Sid\": \"ListCloudwatchLogStreams\",\n",
    "                    \"Effect\": \"Allow\",\n",
    "                    \"Action\": [\n",
    "                        \"logs:DescribeLogStreams\"\n",
    "                    ],\n",
    "                    \"Resource\": [\n",
    "                        \"arn:aws:logs:us-west-2:\"\"\" + account_no + \"\"\":log-group:/aws/kinesis-analytics/sample:log-stream:*\"\n",
    "                    ]\n",
    "                },\n",
    "                {\n",
    "                    \"Sid\": \"PutCloudwatchLogs\",\n",
    "                    \"Effect\": \"Allow\",\n",
    "                    \"Action\": [\n",
    "                        \"logs:PutLogEvents\"\n",
    "                    ],\n",
    "                    \"Resource\": [\n",
    "                        \"arn:aws:logs:us-west-2:\"\"\" + account_no + \"\"\":log-group:/aws/kinesis-analytics/sample:log-stream:kinesis-analytics-log-stream\"\n",
    "                    ]\n",
    "                },\n",
    "                {\n",
    "                \n",
    "                    \"Sid\": \"ReadInputStream\",\n",
    "                    \"Effect\": \"Allow\",\n",
    "                    \"Action\": [\n",
    "                        \"kinesis:*\"\n",
    "                    ],\n",
    "                    \"Resource\": [\n",
    "                        \"arn:aws:kinesis:us-west-2:\"\"\" + account_no + \"\"\":stream/pyth\"\n",
    "                    ]\n",
    "                },\n",
    "                {\n",
    "                    \"Sid\": \"UseLambdaFunction\",\n",
    "                    \"Effect\": \"Allow\",\n",
    "                    \"Action\": [\n",
    "                        \"lambda:InvokeFunction\",\n",
    "                        \"lambda:GetFunctionConfiguration\"\n",
    "                    ],\n",
    "                    \"Resource\": [\n",
    "                        \"arn:aws:lambda:us-west-2:\"\"\" + account_no + \"\"\":function:postproc-dev-pp:$LATEST\"\n",
    "                    ]\n",
    "                }\n",
    "            ]\n",
    "}\"\"\""
   ]
  },
  {
   "cell_type": "code",
   "execution_count": null,
   "id": "9973a118",
   "metadata": {},
   "outputs": [],
   "source": [
    "cp = iam.create_policy(\n",
    "    PolicyName='kda-sample-app',\n",
    "    Path='/service-role/',\n",
    "    PolicyDocument=policy_document\n",
    ")\n",
    "\n",
    "print(cp)"
   ]
  },
  {
   "cell_type": "code",
   "execution_count": null,
   "id": "5cc4d3f9",
   "metadata": {},
   "outputs": [],
   "source": [
    "ap = iam.attach_role_policy(\n",
    "    RoleName='kda-sample-role',\n",
    "    PolicyArn=\"arn:aws:iam::{}:policy/service-role/kda-sample-app\".format(account_no)\n",
    ")"
   ]
  },
  {
   "cell_type": "markdown",
   "id": "4efee418",
   "metadata": {},
   "source": [
    "## Application Definition"
   ]
  },
  {
   "cell_type": "code",
   "execution_count": null,
   "id": "9f190ed0",
   "metadata": {},
   "outputs": [],
   "source": [
    "ca = kda_client.create_application(\n",
    "    ApplicationName='pex'\n",
    ")\n",
    "print(ca)"
   ]
  },
  {
   "cell_type": "code",
   "execution_count": null,
   "id": "fc6b3407",
   "metadata": {},
   "outputs": [],
   "source": [
    "app_desc = kda_client.describe_application(\n",
    "    ApplicationName='pex'\n",
    ")\n",
    "print(app_desc)"
   ]
  },
  {
   "cell_type": "code",
   "execution_count": null,
   "id": "11c1f947",
   "metadata": {},
   "outputs": [],
   "source": [
    "kda_client.add_application_input(\n",
    "    ApplicationName='pex',\n",
    "    CurrentApplicationVersionId=app_desc['ApplicationDetail']['ApplicationVersionId'],\n",
    "    Input={\n",
    "        'NamePrefix':'SOURCE_SQL_STREAM',\n",
    "        'KinesisStreamsInput': {\n",
    "            'ResourceARN': \"arn:aws:kinesis:us-west-2:\" + account_no + \":stream/pyth\",\n",
    "            'RoleARN': 'arn:aws:iam::{}:role/service-role/kda-sample-role'.format(account_no),\n",
    "        },\n",
    "        'InputSchema': {\n",
    "            \"RecordFormat\":{\n",
    "                \"RecordFormatType\":\"JSON\",\n",
    "                \"MappingParameters\":{\n",
    "                   \"JSONMappingParameters\":{\n",
    "                      \"RecordRowPath\":\"$\"\n",
    "                   }\n",
    "                }\n",
    "             },\n",
    "             \"RecordEncoding\":\"UTF-8\",\n",
    "             \"RecordColumns\":[\n",
    "                {\n",
    "                   \"Name\":\"symbol\",\n",
    "                   \"Mapping\":\"$.symbol\",\n",
    "                   \"SqlType\":\"VARCHAR(32)\"\n",
    "                },\n",
    "                {\n",
    "                   \"Name\":\"price\",\n",
    "                   \"Mapping\":\"$.price\",\n",
    "                   \"SqlType\":\"DOUBLE\"\n",
    "                },\n",
    "                {\n",
    "                   \"Name\":\"confidence\",\n",
    "                   \"Mapping\":\"$.confidence\",\n",
    "                   \"SqlType\":\"DOUBLE\"\n",
    "                }\n",
    "             ]\n",
    "        },\n",
    "        \"InputParallelism\":{\n",
    "            \"Count\":1\n",
    "        }\n",
    "    }\n",
    ")"
   ]
  },
  {
   "cell_type": "code",
   "execution_count": null,
   "id": "f335b390",
   "metadata": {},
   "outputs": [],
   "source": [
    "app_code=\"\"\"CREATE OR REPLACE STREAM \"DESTINATION_SQL_STREAM\" (\"symbol\" VARCHAR(32), \"price\" DOUBLE, \"confidence\" DOUBLE);\n",
    "CREATE OR REPLACE  PUMP \"STREAM_PUMP\" AS INSERT INTO \"DESTINATION_SQL_STREAM\"\n",
    "SELECT STREAM \"symbol\",\n",
    "LAST_VALUE(\"price\") OVER W1 AS \"price\",\n",
    "LAST_VALUE(\"confidence\") OVER W1 AS \"confidence\"\n",
    "FROM \"SOURCE_SQL_STREAM_001\"\n",
    "WINDOW W1 AS (\n",
    "    PARTITION BY \"symbol\"\n",
    "    RANGE INTERVAL '10' SECOND PRECEDING\n",
    ");\n",
    "\"\"\""
   ]
  },
  {
   "cell_type": "code",
   "execution_count": null,
   "id": "c9334a0b",
   "metadata": {},
   "outputs": [],
   "source": [
    "app_desc = kda_client.describe_application(\n",
    "    ApplicationName='pex'\n",
    ")\n",
    "\n",
    "ua = kda_client.update_application(\n",
    "    ApplicationName='pex',\n",
    "    CurrentApplicationVersionId=app_desc['ApplicationDetail']['ApplicationVersionId'],\n",
    "    ApplicationUpdate={\n",
    "        'ApplicationCodeUpdate':app_code\n",
    "    }\n",
    ")\n",
    "\n",
    "print(ua)"
   ]
  },
  {
   "cell_type": "code",
   "execution_count": null,
   "id": "9ef46c46",
   "metadata": {},
   "outputs": [],
   "source": [
    "app_desc = kda_client.describe_application(\n",
    "    ApplicationName='pex'\n",
    ")\n",
    "\n",
    "print(app_desc)"
   ]
  },
  {
   "cell_type": "code",
   "execution_count": null,
   "id": "8b8d2018",
   "metadata": {},
   "outputs": [],
   "source": [
    "app_desc = kda_client.describe_application(\n",
    "    ApplicationName='pex'\n",
    ")\n",
    "\n",
    "ao = kda_client.add_application_output(\n",
    "    ApplicationName='pex',\n",
    "    CurrentApplicationVersionId=app_desc['ApplicationDetail']['ApplicationVersionId'],\n",
    "    Output={\n",
    "        'Name':'DESTINATION_SQL_STREAM',\n",
    "        'LambdaOutput': {\n",
    "            \"ResourceARN\":\"arn:aws:lambda:us-west-2:\" + account_no + \":function:postproc-dev-pp:$LATEST\",\n",
    "            'RoleARN': 'arn:aws:iam::{}:role/service-role/kda-sample-role'.format(account_no)\n",
    "        },\n",
    "        'DestinationSchema': {\n",
    "            'RecordFormatType': 'JSON'\n",
    "        }\n",
    "    }\n",
    ")\n",
    "\n",
    "print(ao)"
   ]
  },
  {
   "cell_type": "code",
   "execution_count": null,
   "id": "5f7ae1f8",
   "metadata": {},
   "outputs": [],
   "source": [
    "input_id = app_desc['ApplicationDetail']['InputDescriptions'][0]['InputId']\n",
    "print(input_id)"
   ]
  },
  {
   "cell_type": "code",
   "execution_count": null,
   "id": "d35116a7",
   "metadata": {},
   "outputs": [],
   "source": [
    "kda_client.start_application(\n",
    "    ApplicationName='pex',\n",
    "    InputConfigurations=[\n",
    "        {\n",
    "            'Id': input_id,\n",
    "            'InputStartingPositionConfiguration': {\n",
    "                'InputStartingPosition':'NOW'\n",
    "            }\n",
    "        }\n",
    "    ]\n",
    ")"
   ]
  },
  {
   "cell_type": "code",
   "execution_count": null,
   "id": "79b1498a",
   "metadata": {},
   "outputs": [],
   "source": [
    "kda_client.describe_application(\n",
    "    ApplicationName='pex'\n",
    ")['ApplicationDetail']['ApplicationStatus']"
   ]
  },
  {
   "cell_type": "markdown",
   "id": "c9fe6462",
   "metadata": {},
   "source": [
    "## Clean Up"
   ]
  },
  {
   "cell_type": "markdown",
   "id": "c37b5f7c",
   "metadata": {},
   "source": [
    "### Application"
   ]
  },
  {
   "cell_type": "code",
   "execution_count": null,
   "id": "a860a9d1",
   "metadata": {},
   "outputs": [],
   "source": [
    "app_desc = kda_client.describe_application(\n",
    "    ApplicationName='pex'\n",
    ")\n",
    "print(app_desc)"
   ]
  },
  {
   "cell_type": "code",
   "execution_count": null,
   "id": "3675cacd",
   "metadata": {},
   "outputs": [],
   "source": [
    "kda_client.delete_application(\n",
    "    ApplicationName='pex',\n",
    "    CreateTimestamp=app_desc['ApplicationDetail']['CreateTimestamp']\n",
    ")"
   ]
  },
  {
   "cell_type": "markdown",
   "id": "21813b08",
   "metadata": {},
   "source": [
    "### IAM"
   ]
  },
  {
   "cell_type": "code",
   "execution_count": null,
   "id": "6cc63ff4",
   "metadata": {},
   "outputs": [],
   "source": [
    "policy_arn=\"arn:aws:iam::{}:policy/service-role/kda-sample-app\".format(account_no)\n",
    "print(policy_arn)"
   ]
  },
  {
   "cell_type": "code",
   "execution_count": null,
   "id": "aaad0950",
   "metadata": {},
   "outputs": [],
   "source": [
    "iam.detach_role_policy(\n",
    "    RoleName='kda-sample-role',\n",
    "    PolicyArn=policy_arn\n",
    ")"
   ]
  },
  {
   "cell_type": "code",
   "execution_count": null,
   "id": "f801ed17",
   "metadata": {},
   "outputs": [],
   "source": [
    "iam.delete_policy(\n",
    "    PolicyArn=policy_arn\n",
    ")"
   ]
  },
  {
   "cell_type": "code",
   "execution_count": null,
   "id": "c9e17e53",
   "metadata": {},
   "outputs": [],
   "source": [
    "iam.delete_role(\n",
    "    RoleName='kda-sample-role'\n",
    ")"
   ]
  },
  {
   "cell_type": "code",
   "execution_count": null,
   "id": "9165142d",
   "metadata": {},
   "outputs": [],
   "source": []
  }
 ],
 "metadata": {
  "kernelspec": {
   "display_name": "Python 3",
   "language": "python",
   "name": "python3"
  },
  "language_info": {
   "codemirror_mode": {
    "name": "ipython",
    "version": 3
   },
   "file_extension": ".py",
   "mimetype": "text/x-python",
   "name": "python",
   "nbconvert_exporter": "python",
   "pygments_lexer": "ipython3",
   "version": "3.8.8"
  }
 },
 "nbformat": 4,
 "nbformat_minor": 5
}
