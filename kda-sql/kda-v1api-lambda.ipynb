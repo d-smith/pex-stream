{
 "cells": [
  {
   "cell_type": "code",
   "execution_count": null,
   "id": "a150d2a1",
   "metadata": {},
   "outputs": [],
   "source": [
    "import boto3\n",
    "\n",
    "kda_client = boto3.client('kinesisanalytics')\n",
    "kinesis = boto3.client('kinesis')\n",
    "iam = boto3.client('iam')"
   ]
  },
  {
   "cell_type": "markdown",
   "id": "f931381f",
   "metadata": {},
   "source": [
    "## Input and Output Streams"
   ]
  },
  {
   "cell_type": "code",
   "execution_count": null,
   "id": "0268ed8e",
   "metadata": {},
   "outputs": [],
   "source": [
    "cis = kinesis.create_stream(\n",
    "    StreamName='ExampleInputStream',\n",
    "    ShardCount=1\n",
    ")\n",
    "\n",
    "print(cis)"
   ]
  },
  {
   "cell_type": "code",
   "execution_count": null,
   "id": "c4d11d9f",
   "metadata": {},
   "outputs": [],
   "source": [
    "cos = kinesis.create_stream(\n",
    "    StreamName='ExampleOutputStream',\n",
    "    ShardCount=1\n",
    ")\n",
    "\n",
    "print(cos)"
   ]
  },
  {
   "cell_type": "markdown",
   "id": "ac5d2282",
   "metadata": {},
   "source": [
    "## Input Generator"
   ]
  },
  {
   "cell_type": "code",
   "execution_count": null,
   "id": "3e1e585b",
   "metadata": {},
   "outputs": [],
   "source": [
    "import datetime\n",
    "import json\n",
    "import random\n",
    "import boto3\n",
    "import uuid\n",
    "import time\n",
    "\n",
    "def get_data():\n",
    "    return {\n",
    "        'things': [{'a':1},{'b':2}],\n",
    "        'stuff':{'key':{'foo': True, 'bar': False}},\n",
    "        'EVENT_TIME': datetime.datetime.now().isoformat(),\n",
    "        'TICKER': random.choice(['AAPL', 'AMZN', 'MSFT', 'INTC', 'TBV']),\n",
    "        'PRICE': round(random.random() * 100, 2)}\n",
    "\n",
    "def get_cloud_event():\n",
    "    return {\n",
    "        \"specversion\" : \"1.0\",\n",
    "        \"type\" : \"tick\",\n",
    "        \"source\" : \"sample-stream\",\n",
    "        \"subject\" : \"delayed-data\",\n",
    "        \"id\" : str(uuid.uuid4()),\n",
    "        \"time\" : datetime.datetime.now().isoformat(),\n",
    "        \"datacontenttype\" : \"application/json\",\n",
    "        \"data\" : get_data()\n",
    "    }\n",
    "\n",
    "\n",
    "def generate(stream_name, kinesis_client):\n",
    "    while True:\n",
    "        data = get_cloud_event()\n",
    "        print(data)\n",
    "        kinesis_client.put_record(\n",
    "            StreamName=stream_name,\n",
    "            Data=json.dumps(data),\n",
    "            PartitionKey=\"partitionkey\")\n",
    "        time.sleep(1)"
   ]
  },
  {
   "cell_type": "code",
   "execution_count": null,
   "id": "ad77525a",
   "metadata": {},
   "outputs": [],
   "source": [
    "# Run it\n",
    "generate(\"ExampleInputStream\", kinesis)"
   ]
  },
  {
   "cell_type": "markdown",
   "id": "76deb4f6",
   "metadata": {},
   "source": [
    "## IAM Role and Policy"
   ]
  },
  {
   "cell_type": "code",
   "execution_count": null,
   "id": "bfd6315e",
   "metadata": {},
   "outputs": [],
   "source": [
    "assume_role_policy_document=\"\"\"{\n",
    "    \"Version\": \"2012-10-17\",\n",
    "    \"Statement\": [\n",
    "        {\n",
    "            \"Effect\": \"Allow\",\n",
    "            \"Principal\": {\n",
    "                \"Service\": \"kinesisanalytics.amazonaws.com\"\n",
    "            },\n",
    "            \"Action\": \"sts:AssumeRole\"\n",
    "        }\n",
    "    ]\n",
    "}\n",
    "\"\"\""
   ]
  },
  {
   "cell_type": "code",
   "execution_count": null,
   "id": "56423955",
   "metadata": {},
   "outputs": [],
   "source": [
    "cr = iam.create_role(\n",
    "    RoleName='kda-sample-role',\n",
    "    Path='/service-role/',\n",
    "    AssumeRolePolicyDocument=assume_role_policy_document\n",
    ")\n",
    "\n",
    "print(cr)"
   ]
  },
  {
   "cell_type": "code",
   "execution_count": null,
   "id": "f5ad9463",
   "metadata": {},
   "outputs": [],
   "source": [
    "import os\n",
    "account_no = os.environ['PA_ACCOUNT_NO']"
   ]
  },
  {
   "cell_type": "code",
   "execution_count": null,
   "id": "14b9675d",
   "metadata": {},
   "outputs": [],
   "source": [
    "policy_document=\"\"\"{\n",
    "            \"Version\": \"2012-10-17\",\n",
    "            \"Statement\": [\n",
    "                {\n",
    "                    \"Sid\": \"ReadCode\",\n",
    "                    \"Effect\": \"Allow\",\n",
    "                    \"Action\": [\n",
    "                        \"s3:GetObject\",\n",
    "                        \"s3:GetObjectVersion\"\n",
    "                    ],\n",
    "                    \"Resource\": [\n",
    "                        \"arn:aws:s3:::dskdaj-getting-started/*\"\n",
    "                    ]\n",
    "                },\n",
    "                {\n",
    "                    \"Sid\": \"ListCloudwatchLogGroups\",\n",
    "                    \"Effect\": \"Allow\",\n",
    "                    \"Action\": [\n",
    "                        \"logs:DescribeLogGroups\"\n",
    "                    ],\n",
    "                    \"Resource\": [\n",
    "                        \"arn:aws:logs:us-west-2:\"\"\" + account_no + \"\"\":log-group:*\"\n",
    "                    ]\n",
    "                },\n",
    "                {\n",
    "                    \"Sid\": \"ListCloudwatchLogStreams\",\n",
    "                    \"Effect\": \"Allow\",\n",
    "                    \"Action\": [\n",
    "                        \"logs:DescribeLogStreams\"\n",
    "                    ],\n",
    "                    \"Resource\": [\n",
    "                        \"arn:aws:logs:us-west-2:\"\"\" + account_no + \"\"\":log-group:/aws/kinesis-analytics/sample:log-stream:*\"\n",
    "                    ]\n",
    "                },\n",
    "                {\n",
    "                    \"Sid\": \"PutCloudwatchLogs\",\n",
    "                    \"Effect\": \"Allow\",\n",
    "                    \"Action\": [\n",
    "                        \"logs:PutLogEvents\"\n",
    "                    ],\n",
    "                    \"Resource\": [\n",
    "                        \"arn:aws:logs:us-west-2:\"\"\" + account_no + \"\"\":log-group:/aws/kinesis-analytics/sample:log-stream:kinesis-analytics-log-stream\"\n",
    "                    ]\n",
    "                },\n",
    "                {\n",
    "                \n",
    "                    \"Sid\": \"ReadInputStream\",\n",
    "                    \"Effect\": \"Allow\",\n",
    "                    \"Action\": [\n",
    "                        \"kinesis:*\"\n",
    "                    ],\n",
    "                    \"Resource\": [\n",
    "                        \"arn:aws:kinesis:us-west-2:\"\"\" + account_no + \"\"\":stream/ExampleInputStream\"\n",
    "                    ]\n",
    "                },\n",
    "                {\n",
    "                    \"Sid\": \"WriteOutputStream\",\n",
    "                    \"Effect\": \"Allow\",\n",
    "                    \"Action\": \"kinesis:*\",\n",
    "                    \"Resource\": \"arn:aws:kinesis:us-west-2:\"\"\" + account_no + \"\"\":stream/ExampleOutputStream\"\n",
    "                },\n",
    "                {\n",
    "                    \"Sid\": \"UseLambdaFunction\",\n",
    "                    \"Effect\": \"Allow\",\n",
    "                    \"Action\": [\n",
    "                        \"lambda:InvokeFunction\",\n",
    "                        \"lambda:GetFunctionConfiguration\"\n",
    "                    ],\n",
    "                    \"Resource\": [\n",
    "                        \"arn:aws:lambda:us-west-2:\"\"\" + account_no + \"\"\":function:postproc-dev-pp:$LATEST\"\n",
    "                    ]\n",
    "                }\n",
    "            ]\n",
    "}\"\"\""
   ]
  },
  {
   "cell_type": "code",
   "execution_count": null,
   "id": "9973a118",
   "metadata": {},
   "outputs": [],
   "source": [
    "cp = iam.create_policy(\n",
    "    PolicyName='kda-sample-app',\n",
    "    Path='/service-role/',\n",
    "    PolicyDocument=policy_document\n",
    ")\n",
    "\n",
    "print(cp)"
   ]
  },
  {
   "cell_type": "code",
   "execution_count": null,
   "id": "5cc4d3f9",
   "metadata": {},
   "outputs": [],
   "source": [
    "ap = iam.attach_role_policy(\n",
    "    RoleName='kda-sample-role',\n",
    "    PolicyArn=\"arn:aws:iam::{}:policy/service-role/kda-sample-app\".format(account_no)\n",
    ")"
   ]
  },
  {
   "cell_type": "markdown",
   "id": "4efee418",
   "metadata": {},
   "source": [
    "## Application Definition"
   ]
  },
  {
   "cell_type": "code",
   "execution_count": null,
   "id": "9f190ed0",
   "metadata": {},
   "outputs": [],
   "source": [
    "ca = kda_client.create_application(\n",
    "    ApplicationName='samplev1'\n",
    ")\n",
    "print(ca)"
   ]
  },
  {
   "cell_type": "code",
   "execution_count": null,
   "id": "fc6b3407",
   "metadata": {},
   "outputs": [],
   "source": [
    "app_desc = kda_client.describe_application(\n",
    "    ApplicationName='samplev1'\n",
    ")\n",
    "print(app_desc)"
   ]
  },
  {
   "cell_type": "code",
   "execution_count": null,
   "id": "11c1f947",
   "metadata": {},
   "outputs": [],
   "source": [
    "kda_client.add_application_input(\n",
    "    ApplicationName='samplev1',\n",
    "    CurrentApplicationVersionId=app_desc['ApplicationDetail']['ApplicationVersionId'],\n",
    "    Input={\n",
    "        'NamePrefix':'SOURCE_SQL_STREAM',\n",
    "        'KinesisStreamsInput': {\n",
    "            'ResourceARN': \"arn:aws:kinesis:us-west-2:\" + account_no + \":stream/ExampleInputStream\",\n",
    "            'RoleARN': 'arn:aws:iam::{}:role/service-role/kda-sample-role'.format(account_no),\n",
    "        },\n",
    "        'InputSchema': {\n",
    "            \"RecordFormat\":{\n",
    "                \"RecordFormatType\":\"JSON\",\n",
    "                \"MappingParameters\":{\n",
    "                   \"JSONMappingParameters\":{\n",
    "                      \"RecordRowPath\":\"$\"\n",
    "                   }\n",
    "                }\n",
    "             },\n",
    "             \"RecordEncoding\":\"UTF-8\",\n",
    "             \"RecordColumns\":[\n",
    "                {\n",
    "                   \"Name\":\"specversion\",\n",
    "                   \"Mapping\":\"$.specversion\",\n",
    "                   \"SqlType\":\"DECIMAL(1,1)\"\n",
    "                },\n",
    "                {\n",
    "                   \"Name\":\"type\",\n",
    "                   \"Mapping\":\"$.type\",\n",
    "                   \"SqlType\":\"VARCHAR(4)\"\n",
    "                },\n",
    "                {\n",
    "                   \"Name\":\"source\",\n",
    "                   \"Mapping\":\"$.source\",\n",
    "                   \"SqlType\":\"VARCHAR(16)\"\n",
    "                },\n",
    "                {\n",
    "                   \"Name\":\"subject\",\n",
    "                   \"Mapping\":\"$.subject\",\n",
    "                   \"SqlType\":\"VARCHAR(16)\"\n",
    "                },\n",
    "                {\n",
    "                   \"Name\":\"id\",\n",
    "                   \"Mapping\":\"$.id\",\n",
    "                   \"SqlType\":\"VARCHAR(64)\"\n",
    "                },\n",
    "                {\n",
    "                   \"Name\":\"COL_time\",\n",
    "                   \"Mapping\":\"$.time\",\n",
    "                   \"SqlType\":\"VARCHAR(32)\"\n",
    "                },\n",
    "                {\n",
    "                   \"Name\":\"datacontenttype\",\n",
    "                   \"Mapping\":\"$.datacontenttype\",\n",
    "                   \"SqlType\":\"VARCHAR(16)\"\n",
    "                },\n",
    "                {\n",
    "                   \"Name\":\"EVENT_TIME\",\n",
    "                   \"Mapping\":\"$.data.EVENT_TIME\",\n",
    "                   \"SqlType\":\"VARCHAR(32)\"\n",
    "                },\n",
    "                {\n",
    "                   \"Name\":\"TICKER\",\n",
    "                   \"Mapping\":\"$.data.TICKER\",\n",
    "                   \"SqlType\":\"VARCHAR(4)\"\n",
    "                },\n",
    "                {\n",
    "                   \"Name\":\"PRICE\",\n",
    "                   \"Mapping\":\"$.data.PRICE\",\n",
    "                   \"SqlType\":\"REAL\"\n",
    "                }\n",
    "             ]\n",
    "        },\n",
    "        \"InputParallelism\":{\n",
    "            \"Count\":1\n",
    "        }\n",
    "    }\n",
    ")"
   ]
  },
  {
   "cell_type": "code",
   "execution_count": null,
   "id": "f335b390",
   "metadata": {},
   "outputs": [],
   "source": [
    "app_code=\"\"\"CREATE OR REPLACE STREAM \"DESTINATION_SQL_STREAM\" (event_count integer);\n",
    "CREATE OR REPLACE  PUMP \"STREAM_PUMP\" AS INSERT INTO \"DESTINATION_SQL_STREAM\"\n",
    "SELECT STREAM COUNT(*) AS \"event_count\"\n",
    "FROM \"SOURCE_SQL_STREAM_001\"\n",
    "-- Uses a 10-second tumbling time window\n",
    "GROUP BY FLOOR((\"SOURCE_SQL_STREAM_001\".ROWTIME - TIMESTAMP '1970-01-01 00:00:00') SECOND / 10 TO SECOND);\n",
    "\"\"\""
   ]
  },
  {
   "cell_type": "code",
   "execution_count": null,
   "id": "c9334a0b",
   "metadata": {},
   "outputs": [],
   "source": [
    "app_desc = kda_client.describe_application(\n",
    "    ApplicationName='samplev1'\n",
    ")\n",
    "\n",
    "ua = kda_client.update_application(\n",
    "    ApplicationName='samplev1',\n",
    "    CurrentApplicationVersionId=app_desc['ApplicationDetail']['ApplicationVersionId'],\n",
    "    ApplicationUpdate={\n",
    "        'ApplicationCodeUpdate':app_code\n",
    "    }\n",
    ")\n",
    "\n",
    "print(ua)"
   ]
  },
  {
   "cell_type": "code",
   "execution_count": null,
   "id": "9ef46c46",
   "metadata": {},
   "outputs": [],
   "source": [
    "app_desc = kda_client.describe_application(\n",
    "    ApplicationName='samplev1'\n",
    ")\n",
    "\n",
    "print(app_desc)"
   ]
  },
  {
   "cell_type": "code",
   "execution_count": null,
   "id": "8b8d2018",
   "metadata": {},
   "outputs": [],
   "source": [
    "app_desc = kda_client.describe_application(\n",
    "    ApplicationName='samplev1'\n",
    ")\n",
    "\n",
    "ao = kda_client.add_application_output(\n",
    "    ApplicationName='samplev1',\n",
    "    CurrentApplicationVersionId=app_desc['ApplicationDetail']['ApplicationVersionId'],\n",
    "    Output={\n",
    "        'Name':'DESTINATION_SQL_STREAM',\n",
    "        'LambdaOutput': {\n",
    "            \"ResourceARN\":\"arn:aws:lambda:us-west-2:\" + account_no + \":function:postproc-dev-pp:$LATEST\",\n",
    "            'RoleARN': 'arn:aws:iam::{}:role/service-role/kda-sample-role'.format(account_no)\n",
    "        },\n",
    "        'DestinationSchema': {\n",
    "            'RecordFormatType': 'JSON'\n",
    "        }\n",
    "    }\n",
    ")\n",
    "\n",
    "print(ao)"
   ]
  },
  {
   "cell_type": "code",
   "execution_count": null,
   "id": "5f7ae1f8",
   "metadata": {},
   "outputs": [],
   "source": [
    "input_id = app_desc['ApplicationDetail']['InputDescriptions'][0]['InputId']\n",
    "print(input_id)"
   ]
  },
  {
   "cell_type": "code",
   "execution_count": null,
   "id": "d35116a7",
   "metadata": {},
   "outputs": [],
   "source": [
    "kda_client.start_application(\n",
    "    ApplicationName='samplev1',\n",
    "    InputConfigurations=[\n",
    "        {\n",
    "            'Id': input_id,\n",
    "            'InputStartingPositionConfiguration': {\n",
    "                'InputStartingPosition':'NOW'\n",
    "            }\n",
    "        }\n",
    "    ]\n",
    ")"
   ]
  },
  {
   "cell_type": "code",
   "execution_count": null,
   "id": "79b1498a",
   "metadata": {},
   "outputs": [],
   "source": [
    "kda_client.describe_application(\n",
    "    ApplicationName='samplev1'\n",
    ")['ApplicationDetail']['ApplicationStatus']"
   ]
  },
  {
   "cell_type": "markdown",
   "id": "14472d6c",
   "metadata": {},
   "source": [
    "## Read Output"
   ]
  },
  {
   "cell_type": "code",
   "execution_count": null,
   "id": "c633f22d",
   "metadata": {},
   "outputs": [],
   "source": [
    "import time\n",
    "\n",
    "def read_stream(stream_name):\n",
    "    shards = kinesis.list_shards(\n",
    "        StreamName='ExampleOutputStream'\n",
    "    )\n",
    "    \n",
    "    itor = kinesis.get_shard_iterator(\n",
    "        StreamName='ExampleOutputStream',\n",
    "        ShardIteratorType='LATEST',\n",
    "        ShardId=shards['Shards'][0]['ShardId']\n",
    "    )\n",
    "    \n",
    "    shardIterator = ShardIterator=itor['ShardIterator']\n",
    "    \n",
    "    while True:\n",
    "        recs = kinesis.get_records(\n",
    "            ShardIterator=shardIterator\n",
    "        )\n",
    "        \n",
    "        if(len(recs['Records']) == 0):\n",
    "            time.sleep(1)\n",
    "\n",
    "        for rec in recs['Records']:\n",
    "            print(rec['Data'])\n",
    "        shardItor = recs['NextShardIterator']"
   ]
  },
  {
   "cell_type": "code",
   "execution_count": null,
   "id": "b8b32f9b",
   "metadata": {},
   "outputs": [],
   "source": [
    "read_stream('ExampleOutputStream')"
   ]
  },
  {
   "cell_type": "markdown",
   "id": "c9fe6462",
   "metadata": {},
   "source": [
    "## Clean Up"
   ]
  },
  {
   "cell_type": "markdown",
   "id": "c37b5f7c",
   "metadata": {},
   "source": [
    "### Application"
   ]
  },
  {
   "cell_type": "code",
   "execution_count": null,
   "id": "a860a9d1",
   "metadata": {},
   "outputs": [],
   "source": [
    "app_desc = kda_client.describe_application(\n",
    "    ApplicationName='samplev1'\n",
    ")\n",
    "print(app_desc)"
   ]
  },
  {
   "cell_type": "code",
   "execution_count": null,
   "id": "3675cacd",
   "metadata": {},
   "outputs": [],
   "source": [
    "kda_client.delete_application(\n",
    "    ApplicationName='samplev1',\n",
    "    CreateTimestamp=app_desc['ApplicationDetail']['CreateTimestamp']\n",
    ")"
   ]
  },
  {
   "cell_type": "markdown",
   "id": "21813b08",
   "metadata": {},
   "source": [
    "### IAM"
   ]
  },
  {
   "cell_type": "code",
   "execution_count": null,
   "id": "6cc63ff4",
   "metadata": {},
   "outputs": [],
   "source": [
    "policy_arn=\"arn:aws:iam::{}:policy/service-role/kda-sample-app\".format(account_no)\n",
    "print(policy_arn)"
   ]
  },
  {
   "cell_type": "code",
   "execution_count": null,
   "id": "aaad0950",
   "metadata": {},
   "outputs": [],
   "source": [
    "iam.detach_role_policy(\n",
    "    RoleName='kda-sample-role',\n",
    "    PolicyArn=policy_arn\n",
    ")"
   ]
  },
  {
   "cell_type": "code",
   "execution_count": null,
   "id": "f801ed17",
   "metadata": {},
   "outputs": [],
   "source": [
    "iam.delete_policy(\n",
    "    PolicyArn=policy_arn\n",
    ")"
   ]
  },
  {
   "cell_type": "code",
   "execution_count": null,
   "id": "c9e17e53",
   "metadata": {},
   "outputs": [],
   "source": [
    "iam.delete_role(\n",
    "    RoleName='kda-sample-role'\n",
    ")"
   ]
  },
  {
   "cell_type": "markdown",
   "id": "6cd5d583",
   "metadata": {},
   "source": [
    "### Streams"
   ]
  },
  {
   "cell_type": "code",
   "execution_count": null,
   "id": "79b35bba",
   "metadata": {},
   "outputs": [],
   "source": [
    "kinesis.delete_stream(\n",
    "    StreamName='ExampleInputStream'\n",
    ")"
   ]
  },
  {
   "cell_type": "code",
   "execution_count": null,
   "id": "e53c9372",
   "metadata": {},
   "outputs": [],
   "source": [
    "kinesis.delete_stream(\n",
    "    StreamName='ExampleOutputStream'\n",
    ")"
   ]
  },
  {
   "cell_type": "code",
   "execution_count": null,
   "id": "9165142d",
   "metadata": {},
   "outputs": [],
   "source": []
  }
 ],
 "metadata": {
  "kernelspec": {
   "display_name": "Python 3",
   "language": "python",
   "name": "python3"
  },
  "language_info": {
   "codemirror_mode": {
    "name": "ipython",
    "version": 3
   },
   "file_extension": ".py",
   "mimetype": "text/x-python",
   "name": "python",
   "nbconvert_exporter": "python",
   "pygments_lexer": "ipython3",
   "version": "3.8.8"
  }
 },
 "nbformat": 4,
 "nbformat_minor": 5
}
